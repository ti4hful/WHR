whr_analysis.ipynb

import matplotlib.pyplot as plt
import pandas as pd

# Read the cleaned data from the CSV file
df = pd.read_csv(r'C:/FINAL/WHR/world-happiness-report-2015-2022-cleaned.csv')

print(df.dtypes)

1. Bar chart -> To visualize the top 5 happiest countries
# Convert 'Happiness Score' to numeric
df['Happiness Score'] = pd.to_numeric(df['Happiness Score'], errors='coerce')

# Select the top 5 happiest countries in 2015
df_top_5_2015 = df[(df['Year'] == 2015)].nlargest(5, 'Happiness Score')

# Bar chart for the top 5 happiest countries in 2015
plt.figure(figsize=(12, 6))
plt.bar(df_top_5_2015['Country'], df_top_5_2015['Happiness Score'], color='#D68FD6')
plt.title('Top 5 Happiest Countries in 2015')
plt.xlabel('Country')
plt.ylabel('Happiness Score')
plt.xticks(rotation=45, ha='right')
plt.show()


df['Happiness Score'] = pd.to_numeric(df['Happiness Score'], errors='coerce')
# Select the top 5 happiest countries in 2022
df_top_5_2021 = df[df['Year'] == 2021].nlargest(5, 'Happiness Score')

# Bar chart for the top 5 happiest countries in 2021
plt.figure(figsize=(12, 6))
plt.bar(df_top_5_2021['Country'], df_top_5_2021['Happiness Score'], color='darkviolet')
plt.title('Top 5 Happiest Countries in 2021')
plt.xlabel('Country')
plt.ylabel('Happiness Score')
plt.xticks(rotation=45, ha='right')
plt.show()

df[['Happiness Score', 'Economy (GDP per Capita)']] = df[['Happiness Score', 'Economy (GDP per Capita)']].apply(pd.to_numeric, errors='coerce')

2. Scatter plot -> To explore the relationship between GDP and happiness score
# Scatter plot for 2015 GDP vs Happiness Score 
plt.figure(figsize=(10, 6))
df_2015 = df[df['Year'] == 2015]
plt.scatter(df_2015['Economy (GDP per Capita)'], df_2015['Happiness Score'], color='pink', alpha=0.7)
plt.title('Scatter Plot: GDP vs. Happiness Score in 2015')
plt.xlabel('Economy (GDP per Capita)')
plt.ylabel('Happiness Score')
plt.show()

# Scatter plot for 2021 GDP vs Happiness Score  
plt.figure(figsize=(10, 6))
df_2021 = df[df['Year'] == 2021]
plt.scatter(df_2021['Economy (GDP per Capita)'], df_2021['Happiness Score'], color='darkviolet', alpha=0.7)
plt.title('Scatter Plot: GDP vs. Happiness Score in 2021')
plt.xlabel('Economy (GDP per Capita)')
plt.ylabel('Happiness Score')
plt.show()

3. Correlation heatmap -> To visualize the correlations between different factors
import seaborn as sns

# Select data for the year 2015
df_2015 = df[df['Year'] == 2015]


# Extract relevant columns for correlation analysis
correlation_cols_2015 = [
    'Economy (GDP per Capita)', 'Health (Life Expectancy)', 'Trust (Government Corruption)',
    'Happiness Score', 'Freedom', 'Generosity', 'Family (Social Support)'
]

# Compute the correlation matrix
correlation_matrix_2015 = df_2015[correlation_cols_2015].corr()


# Plot the heatmap
plt.figure(figsize=(10, 8))
sns.heatmap(correlation_matrix_2015, annot=True, cmap='RdPu', vmin=-1, vmax=1)
plt.title('Correlation Heatmap: Factors in 2015')
plt.show()



# Select data for the year 2021
df_2021 = df[df['Year'] == 2021]


# Extract relevant columns for correlation analysis
correlation_cols_2021 = [
    'Economy (GDP per Capita)', 'Health (Life Expectancy)', 'Trust (Government Corruption)',
    'Happiness Score', 'Freedom', 'Generosity', 'Family (Social Support)'
]


# Compute the correlation matrix
correlation_matrix_2021 = df_2021[correlation_cols_2021].corr()


# Plot the heatmap 
plt.figure(figsize=(10, 8))
sns.heatmap(correlation_matrix_2021, annot=True, cmap='BuPu', vmin=-1, vmax=1)
plt.title('Correlation Heatmap: Factors in 2021')
plt.show()


4. Pairplot -> To visualize relationships between multiple variables in this dataset
# Select data for the year 2015
df_2015 = df[df['Year'] == 2015]


# Extract relevant columns for pair plot
pairplot_cols_2015 = [
    'Economy (GDP per Capita)', 'Health (Life Expectancy)', 'Trust (Government Corruption)',
    'Happiness Score', 'Freedom', 'Generosity', 'Family (Social Support)'
]




# Create a pair plot
sns.set(style="ticks", color_codes=True)
sns.pairplot(df_2015[pairplot_cols_2015], diag_kind='kde', palette='pink')
plt.suptitle('Pair Plot: Relationships between Variables in 2015', y=1.02)
plt.show()


# Define a custom pink color palette
custom_palette = sns.color_palette(["#F08FC0", "#E66091", "#E33061", "#D90032", "#C20021", "#AB001F", "#93001D"])


# Create a pair plot with the custom pink color palette
sns.set(style="ticks", color_codes=True)
sns.pairplot(df_2015[pairplot_cols_2015], diag_kind='kde', palette=custom_palette)
plt.suptitle('Pair Plot: Relationships between Variables in 2015', y=1.02)
plt.show()



# Define a pink color palette
pink_palette = sns.light_palette("pink", as_cmap=True)


# Create a pair plot with individual colors for each scatterplot
plt.figure(figsize=(12, 8))
sns.pairplot(df_2015[pairplot_cols_2015], palette=pink_palette)
plt.suptitle('Pair Plot: Relationships between Variables in 2015', y=1.02)
plt.show()



df_2021 = df[df['Year'] == 2021]



# Extract relevant columns for pair plot
pairplot_cols_2021 = [
    'Economy (GDP per Capita)', 'Health (Life Expectancy)', 'Trust (Government Corruption)',
    'Happiness Score', 'Freedom', 'Generosity', 'Family (Social Support)'
]


# Define a purple color palette
purple_palette = sns.light_palette("purple", as_cmap=True)



# Create a pair plot  
plt.figure(figsize=(12, 8))
sns.pairplot(df_2021[pairplot_cols_2021], palette=purple_palette)
plt.suptitle('Pair Plot: Relationships between Variables in 2021', y=1.02)
plt.show()


5.Box plot-> To provides information about the distribution of the happiness scores, including the median, quartiles, and potential outliers
# Define a pink color palette
pink_palette = sns.light_palette("pink", as_cmap=True)

# Create a box plot for happiness scores with pink color
plt.figure(figsize=(10, 6))
sns.boxplot(x='Happiness Score', data=df_2015, color='pink', width=0.5)
plt.title('Box Plot: Distribution of Happiness Scores in 2015')
plt.xlabel('Happiness Score')
plt.show()



# Select data for the year 2021
df_2021 = df[df['Year'] == 2021]

df['Happiness Score'] = pd.to_numeric(df['Happiness Score'], errors='coerce')

# Select data for the year 2021
df_2021 = df[df['Year'] == 2021]

# Define a purple color palette
purple_palette = sns.light_palette("purple", as_cmap=True)


# Create a box plot for happiness scores with purple color
plt.figure(figsize=(10, 6))
sns.boxplot(x='Happiness Score', data=df_2021, color='darkviolet', width=0.5)
plt.title('Box Plot: Distribution of Happiness Scores in 2021')
plt.xlabel('Happiness Score')
plt.show()

6. Bar chart -> To visualize the generosity of different countries


# Select data for the year 2015
df_2015 = df[df['Year'] == 2015]


# Convert 'Generosity' to numeric, replacing any non-numeric values with NaN
df_2015['Generosity'] = pd.to_numeric(df_2015['Generosity'], errors='coerce')


# Drop rows with NaN values in 'Generosity' column
df_2015 = df_2015.dropna(subset=['Generosity'])



# Sort the DataFrame by Generosity in descending order and select the top 5
top_5_generosity_2015 = df_2015.nlargest(5, 'Generosity')



# Create a bar chart for the top 5 generous countries in 2015 with pink color
plt.figure(figsize=(12, 6))
sns.barplot(x='Generosity', y='Country', data=top_5_generosity_2015, color='pink')
plt.title('Top 5 Generous Countries in 2015')
plt.xlabel('Generosity')
plt.ylabel('Country')
plt.show()


# Select data for the year 2021
df_2021 = df[df['Year'] == 2021]

# Convert 'Generosity' to numeric, replacing any non-numeric values with NaN
df_2021['Generosity'] = pd.to_numeric(df_2021['Generosity'], errors='coerce')

# Drop rows with NaN values in 'Generosity' column
df_2021 = df_2021.dropna(subset=['Generosity'])

# Sort the DataFrame by Generosity in descending order and select the top 5
top_5_generosity_2021 = df_2021.nlargest(5, 'Generosity')

# Create a bar chart for the top 5 generous countries in 2021 with darkviolet color
plt.figure(figsize=(12, 6))
sns.barplot(x='Generosity', y='Country', data=top_5_generosity_2021, color='darkviolet')
plt.title('Top 5 Generous Countries in 2021')
plt.xlabel('Generosity')
plt.ylabel('Country')
plt.show()

7. Histogram -> to visualize the distribution of GDP

# Select data for the year 2015
df_2015 = df[df['Year'] == 2015]

# Convert 'Economy (GDP per Capita)' to numeric, replacing any non-numeric values with NaN
df_2015['Economy (GDP per Capita)'] = pd.to_numeric(df_2015['Economy (GDP per Capita)'], errors='coerce')

df_2015.loc[:, 'Economy (GDP per Capita)'] = pd.to_numeric(df_2015['Economy (GDP per Capita)'], errors='coerce')

# Drop rows with NaN values in 'Economy (GDP per Capita)' column
df_2015 = df_2015.dropna(subset=['Economy (GDP per Capita)'])

# Create a histogram to visualize the distribution of GDP in 2015
plt.figure(figsize=(12, 6))
sns.histplot(df_2015['Economy (GDP per Capita)'], bins=20, color='pink', kde=True)
plt.title('Distribution of GDP in 2015')
plt.xlabel('Economy (GDP per Capita)')
plt.ylabel('Frequency')
plt.show()


# Create a histogram to visualize the distribution of GDP in 2021
plt.figure(figsize=(12, 6))
sns.histplot(df_2021['Economy (GDP per Capita)'], bins=20, color='darkviolet', kde=True)
plt.title('Distribution of GDP in 2021')
plt.xlabel('Economy (GDP per Capita)')
plt.ylabel('Frequency')
plt.show()


8. Radar chart -> to compare multiple factors for each country in a single chart 2015

import numpy as np

# Select relevant factors for the radar chart
factors = ['Economy (GDP per Capita)', 'Health (Life Expectancy)', 'Freedom', 'Generosity']

# Select a country to visualize
country_to_visualize = 'Finland'

# Filter the data for the selected country in 2015
data_2015_country = df_2015[df_2015['Country'] == country_to_visualize]

# Extract values for the selected factors
values = data_2015_country[factors].values.flatten().tolist()

# Number of factors
num_factors = len(factors)

# Compute angle of each axis
angles = np.linspace(0, 2 * np.pi, num_factors, endpoint=False).tolist()

# Make the plot circular
values += values[:1]
angles += angles[:1]

# Create a radar chart
plt.figure(figsize=(8, 8))
ax = plt.subplot(111, polar=True)
ax.fill(angles, values, color='pink', alpha=0.25)
ax.set_thetagrids(np.degrees(angles[:-1]), factors)
plt.title(f'Radar Chart for {country_to_visualize} - 2015')
plt.show()

# Select relevant factors for the radar chart
factors = ['Economy (GDP per Capita)', 'Health (Life Expectancy)', 'Freedom', 'Generosity']

# Select a country to visualize
country_to_visualize = 'Switzerland'

# Filter the data for the selected country in 2021
data_2021_country = df_2021[df_2021['Country'] == country_to_visualize]

# Extract values for the selected factors
values = data_2021_country[factors].values.flatten().tolist()

# Number of factors
num_factors = len(factors)

# Compute angle of each axis
angles = np.linspace(0, 2 * np.pi, num_factors, endpoint=False).tolist()

# Make the plot circular
values += values[:1]
angles += angles[:1]

# Create a radar chart
plt.figure(figsize=(8, 8))
ax = plt.subplot(111, polar=True)
ax.fill(angles, values, color='darkviolet', alpha=0.25)
ax.set_thetagrids(np.degrees(angles[:-1]), factors)
plt.title(f'Radar Chart for {country_to_visualize} - 2021')
plt.show()

9. Bubble plot -> To visualize three variables simultaneously
import matplotlib.pyplot as plt

# Select relevant variables for the bubble plot
x_variable = 'Economy (GDP per Capita)'
y_variable = 'Health (Life Expectancy)'
size_variable = 'Happiness Score'
color_variable = 'Generosity'

# Convert variables to numeric (if not already)
df_2015[x_variable] = pd.to_numeric(df_2015[x_variable], errors='coerce')
df_2015[y_variable] = pd.to_numeric(df_2015[y_variable], errors='coerce')
df_2015[size_variable] = pd.to_numeric(df_2015[size_variable], errors='coerce')
df_2015[color_variable] = pd.to_numeric(df_2015[color_variable], errors='coerce')

# Drop rows with missing values in selected variables
df_2015_bubble = df_2015[[x_variable, y_variable, size_variable, color_variable]].dropna()

# Extract values for the selected variables
x_values = df_2015_bubble[x_variable]
y_values = df_2015_bubble[y_variable]
size_values = df_2015_bubble[size_variable]
color_values = df_2015_bubble[color_variable]

# Create a bubble plot with 'RdPu' colormap
plt.figure(figsize=(12, 8))
scatter = plt.scatter(x_values, y_values, s=size_values * 100, c=color_values, alpha=0.7, edgecolors='w', linewidth=1, cmap='RdPu')
# Add labels and title
plt.title('Bubble Plot for Countries in 2015')
plt.xlabel(x_variable)
plt.ylabel(y_variable)
# Add a colorbar
plt.colorbar(scatter, label=color_variable)
# Annotate points with country names
for i, country in enumerate(df_2015_bubble.index):
    plt.annotate(country, (x_values.iloc[i], y_values.iloc[i]), fontsize=6, ha='right')

# Show the plot
plt.show()

# 2021

x_variable = 'Economy (GDP per Capita)'
y_variable = 'Health (Life Expectancy)'
size_variable = 'Happiness Score'
color_variable = 'Generosity' 


# Convert variables to numeric (if not already)
df_2021[x_variable] = pd.to_numeric(df_2021[x_variable], errors='coerce')
df_2021[y_variable] = pd.to_numeric(df_2021[y_variable], errors='coerce')
df_2021[size_variable] = pd.to_numeric(df_2021[size_variable], errors='coerce')
df_2021[color_variable] = pd.to_numeric(df_2021[color_variable], errors='coerce')


# Drop rows with missing values in selected variables
df_2021_bubble = df_2021[[x_variable, y_variable, size_variable, color_variable]].dropna()

x_values = df_2021_bubble[x_variable]
y_values = df_2021_bubble[y_variable]
size_values = df_2021_bubble[size_variable]
color_values = df_2021_bubble[color_variable]

# Create a bubble plot with 'BuPu' colormap
plt.figure(figsize=(12, 8))
scatter = plt.scatter(x_values, y_values, s=size_values * 100, c=color_values, alpha=0.7, edgecolors='w', linewidth=1, cmap='BuPu')

# Add labels and title
plt.title('Bubble Plot for Countries in 2021')
plt.xlabel(x_variable)
plt.ylabel(y_variable)

# Add a colorbar
plt.colorbar(scatter, label=color_variable)

# Annotate points with country names
for i, country in enumerate(df_2021_bubble.index):
    plt.annotate(country, (x_values.iloc[i], y_values.iloc[i]), fontsize=6, ha='right')

# Show the plot
plt.show()
